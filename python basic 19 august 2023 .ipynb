{
 "cells": [
  {
   "cell_type": "code",
   "execution_count": 1,
   "id": "a5e348bb-b6b9-4336-b695-1674a775fcf2",
   "metadata": {},
   "outputs": [],
   "source": [
    "a=10"
   ]
  },
  {
   "cell_type": "code",
   "execution_count": 2,
   "id": "b06a1bc8-8c49-4322-bbc6-fc2ea1bf27d2",
   "metadata": {},
   "outputs": [],
   "source": [
    "b=20"
   ]
  },
  {
   "cell_type": "code",
   "execution_count": 3,
   "id": "8d58e84e-a9ae-4313-9bf9-af83724f56dd",
   "metadata": {},
   "outputs": [],
   "source": [
    "a,b=b,a"
   ]
  },
  {
   "cell_type": "code",
   "execution_count": 4,
   "id": "56d63c56-74a2-4d2d-bb7b-4d4c3aef3236",
   "metadata": {},
   "outputs": [
    {
     "data": {
      "text/plain": [
       "20"
      ]
     },
     "execution_count": 4,
     "metadata": {},
     "output_type": "execute_result"
    }
   ],
   "source": [
    "a"
   ]
  },
  {
   "cell_type": "code",
   "execution_count": 5,
   "id": "4527df64-eff5-4a9a-a967-796b7897d424",
   "metadata": {},
   "outputs": [
    {
     "data": {
      "text/plain": [
       "10"
      ]
     },
     "execution_count": 5,
     "metadata": {},
     "output_type": "execute_result"
    }
   ],
   "source": [
    "b"
   ]
  },
  {
   "cell_type": "code",
   "execution_count": null,
   "id": "cff4afa5-6d73-485d-9aff-a4e9751be243",
   "metadata": {},
   "outputs": [],
   "source": []
  },
  {
   "cell_type": "code",
   "execution_count": 8,
   "id": "dd72053a-d51e-46e8-9cbf-23d8538a4405",
   "metadata": {},
   "outputs": [],
   "source": [
    "length=10"
   ]
  },
  {
   "cell_type": "code",
   "execution_count": 9,
   "id": "5c904768-05f4-4b89-bbb9-ead544d9f5a3",
   "metadata": {},
   "outputs": [],
   "source": [
    "width=5"
   ]
  },
  {
   "cell_type": "code",
   "execution_count": 10,
   "id": "8d029250-668e-46fe-9d9c-f15128e05f85",
   "metadata": {},
   "outputs": [],
   "source": [
    "area=length*width"
   ]
  },
  {
   "cell_type": "code",
   "execution_count": 11,
   "id": "ad041eff-ef8c-4d2d-96b3-bc00bfdf3a32",
   "metadata": {},
   "outputs": [
    {
     "name": "stdout",
     "output_type": "stream",
     "text": [
      "50\n"
     ]
    }
   ],
   "source": [
    "print(area)"
   ]
  },
  {
   "cell_type": "code",
   "execution_count": null,
   "id": "f2042d0b-1b77-4f6b-a733-c83cb839d6dd",
   "metadata": {},
   "outputs": [],
   "source": []
  },
  {
   "cell_type": "code",
   "execution_count": 14,
   "id": "8f50b908-903e-472f-9e73-cd0f4c7650cb",
   "metadata": {},
   "outputs": [
    {
     "name": "stdin",
     "output_type": "stream",
     "text": [
      "enter temperature in celsius 37.5\n"
     ]
    }
   ],
   "source": [
    "celsius=float(input(\"enter temperature in celsius\"))"
   ]
  },
  {
   "cell_type": "code",
   "execution_count": 15,
   "id": "de4b6497-8e2a-4730-a1c3-b7918563de96",
   "metadata": {},
   "outputs": [],
   "source": [
    "farenheit=(celsius*1.8)+32"
   ]
  },
  {
   "cell_type": "code",
   "execution_count": 16,
   "id": "f88d4194-6be2-4a8f-aadc-d5a067d3d0c4",
   "metadata": {},
   "outputs": [
    {
     "name": "stdout",
     "output_type": "stream",
     "text": [
      "\n",
      " temperature in farenheit: 99.5\n"
     ]
    }
   ],
   "source": [
    "print('\\n temperature in farenheit:',farenheit)"
   ]
  },
  {
   "cell_type": "code",
   "execution_count": null,
   "id": "0472dce4-d6b2-4454-856a-ca8a4ea5f5d0",
   "metadata": {},
   "outputs": [],
   "source": []
  },
  {
   "cell_type": "code",
   "execution_count": 19,
   "id": "fa053bda-5176-4ff0-91f6-a507495e4b68",
   "metadata": {},
   "outputs": [],
   "source": [
    "s=\"anshul giri\""
   ]
  },
  {
   "cell_type": "code",
   "execution_count": 20,
   "id": "1c9d5f97-3a22-44b1-9c5b-f8176a7235eb",
   "metadata": {},
   "outputs": [
    {
     "data": {
      "text/plain": [
       "11"
      ]
     },
     "execution_count": 20,
     "metadata": {},
     "output_type": "execute_result"
    }
   ],
   "source": [
    "len(s)"
   ]
  },
  {
   "cell_type": "code",
   "execution_count": 21,
   "id": "de5d3e83-52c2-4911-ad4f-dbb0030cc2ac",
   "metadata": {},
   "outputs": [],
   "source": [
    "s1=\"she cried when she was sad\""
   ]
  },
  {
   "cell_type": "code",
   "execution_count": 23,
   "id": "4e6d4afc-4ac6-4e76-ad3d-1b90c05235df",
   "metadata": {},
   "outputs": [
    {
     "ename": "SyntaxError",
     "evalue": "invalid syntax. Perhaps you forgot a comma? (3372081618.py, line 1)",
     "output_type": "error",
     "traceback": [
      "\u001b[0;36m  Cell \u001b[0;32mIn[23], line 1\u001b[0;36m\u001b[0m\n\u001b[0;31m    input(count vowels)\u001b[0m\n\u001b[0m          ^\u001b[0m\n\u001b[0;31mSyntaxError\u001b[0m\u001b[0;31m:\u001b[0m invalid syntax. Perhaps you forgot a comma?\n"
     ]
    }
   ],
   "source": []
  },
  {
   "cell_type": "code",
   "execution_count": 17,
   "id": "de261957-dde2-4b2b-a177-d50f276c52d0",
   "metadata": {},
   "outputs": [],
   "source": [
    "s=\"anshulgiri\""
   ]
  },
  {
   "cell_type": "code",
   "execution_count": 18,
   "id": "540cb1bf-4e03-41c8-b0ac-dc67d387bec0",
   "metadata": {},
   "outputs": [
    {
     "data": {
      "text/plain": [
       "'irigluhsna'"
      ]
     },
     "execution_count": 18,
     "metadata": {},
     "output_type": "execute_result"
    }
   ],
   "source": [
    "s[::-1]"
   ]
  },
  {
   "cell_type": "code",
   "execution_count": null,
   "id": "dd7dd9d9-45a1-46c0-9ec8-c4cb8c0e57b4",
   "metadata": {},
   "outputs": [],
   "source": []
  }
 ],
 "metadata": {
  "kernelspec": {
   "display_name": "Python 3 (ipykernel)",
   "language": "python",
   "name": "python3"
  },
  "language_info": {
   "codemirror_mode": {
    "name": "ipython",
    "version": 3
   },
   "file_extension": ".py",
   "mimetype": "text/x-python",
   "name": "python",
   "nbconvert_exporter": "python",
   "pygments_lexer": "ipython3",
   "version": "3.10.8"
  }
 },
 "nbformat": 4,
 "nbformat_minor": 5
}
